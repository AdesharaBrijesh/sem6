{
 "cells": [
  {
   "cell_type": "code",
   "execution_count": 3,
   "metadata": {},
   "outputs": [
    {
     "name": "stdout",
     "output_type": "stream",
     "text": [
      "Enter your message : HyY\n",
      "Encrypted data is : \n",
      "IxX\n",
      "Decrypted data is : \n",
      "HyY"
     ]
    }
   ],
   "source": [
    "\n",
    "key=1\n",
    "s_msg=input(\"Enter your message : \")\n",
    "sm_l=list(s_msg)\n",
    "\n",
    "def encrypt(sm_l,key):\n",
    "    l1=[]\n",
    "    for k in sm_l:\n",
    "        x=0\n",
    "        m=int(ord(k))\n",
    "        if k.isupper():\n",
    "            x=65\n",
    "        else: \n",
    "            x=97\n",
    "        if m%2==0:\n",
    "            j=chr((m+key-x)%26+x)\n",
    "        else:\n",
    "            j=chr((m-key-x)%26+x)\n",
    "        l1.append(j)\n",
    "    return l1\n",
    "\n",
    "def decrypt(l1,key):\n",
    "    l2=[]\n",
    "    for k in l1:\n",
    "        x=0\n",
    "        m=int(ord(k))\n",
    "        if k.isupper():\n",
    "            x=65\n",
    "        else: \n",
    "            x=97\n",
    "        if m%2==0:\n",
    "            j=chr((m+key-x)%26+x)\n",
    "        else:\n",
    "            j=chr((m-key-x)%26+x)\n",
    "        l2.append(j)\n",
    "    return l2\n",
    "\n",
    "en_sml=encrypt(sm_l,key)\n",
    "print(\"Encrypted data is : \")\n",
    "for x in en_sml:\n",
    "    print(x,end=\"\")\n",
    "print()\n",
    "de_sml=decrypt(en_sml,key)\n",
    "print(\"Decrypted data is : \")\n",
    "for x in de_sml:\n",
    "    print(x,end=\"\")\n",
    "\n"
   ]
  },
  {
   "cell_type": "code",
   "execution_count": null,
   "metadata": {},
   "outputs": [],
   "source": []
  }
 ],
 "metadata": {
  "kernelspec": {
   "display_name": "Python 3",
   "language": "python",
   "name": "python3"
  },
  "language_info": {
   "codemirror_mode": {
    "name": "ipython",
    "version": 3
   },
   "file_extension": ".py",
   "mimetype": "text/x-python",
   "name": "python",
   "nbconvert_exporter": "python",
   "pygments_lexer": "ipython3",
   "version": "3.7.3"
  }
 },
 "nbformat": 4,
 "nbformat_minor": 2
}
